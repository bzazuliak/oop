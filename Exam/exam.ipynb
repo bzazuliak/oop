{
 "cells": [
  {
   "cell_type": "markdown",
   "metadata": {},
   "source": [
    "Створити клас з методом який повертає int значення"
   ]
  },
  {
   "cell_type": "code",
   "execution_count": 1,
   "metadata": {},
   "outputs": [
    {
     "name": "stdout",
     "output_type": "stream",
     "text": [
      "Подвоєне значення: 20\n"
     ]
    }
   ],
   "source": [
    "class IntegerMethodExample:\n",
    "    def __init__(self, value):\n",
    "        self._value = value  # Приватний атрибут для зберігання числа\n",
    "    \n",
    "    def get_double(self):\n",
    "        \"\"\"Метод, який повертає подвоєне значення.\"\"\"\n",
    "        return self._value * 2\n",
    "\n",
    "# Створення об'єкта класу\n",
    "example = IntegerMethodExample(10)\n",
    "\n",
    "# Використання методу\n",
    "result = example.get_double()  # Виведе: 20\n",
    "print(f\"Подвоєне значення: {result}\")\n"
   ]
  }
 ],
 "metadata": {
  "kernelspec": {
   "display_name": "Python 3",
   "language": "python",
   "name": "python3"
  },
  "language_info": {
   "codemirror_mode": {
    "name": "ipython",
    "version": 3
   },
   "file_extension": ".py",
   "mimetype": "text/x-python",
   "name": "python",
   "nbconvert_exporter": "python",
   "pygments_lexer": "ipython3",
   "version": "3.13.0"
  }
 },
 "nbformat": 4,
 "nbformat_minor": 2
}
